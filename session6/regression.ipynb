{
 "cells": [
  {
   "cell_type": "markdown",
   "id": "b9110d4c",
   "metadata": {},
   "source": [
    "# Decision trees and random forests for regression\n",
    "\n",
    "Just imports"
   ]
  },
  {
   "cell_type": "code",
   "execution_count": null,
   "id": "9285dda9",
   "metadata": {},
   "outputs": [],
   "source": [
    "%matplotlib inline \n",
    "\n",
    "import matplotlib.pyplot as plt\n",
    "import numpy as np\n",
    "\n",
    "from sklearn.model_selection import train_test_split\n",
    "from sklearn.ensemble import GradientBoostingRegressor\n",
    "from sklearn.metrics import mean_squared_error\n",
    "\n",
    "\n",
    "import sys\n",
    "if not sys.path.__contains__('..'): sys.path.append('..') #hack to import from parent directory\n",
    "from plot_utils import visualize_tree, grid_plot\n"
   ]
  },
  {
   "cell_type": "markdown",
   "id": "248f26e5",
   "metadata": {},
   "source": [
    "# Step example\n",
    "\n",
    "First, we generate some (noisy) data on which to do regression."
   ]
  },
  {
   "cell_type": "code",
   "execution_count": null,
   "id": "724b7171",
   "metadata": {},
   "outputs": [],
   "source": [
    "np.random.seed(504)"
   ]
  },
  {
   "cell_type": "code",
   "execution_count": null,
   "id": "b513e30d",
   "metadata": {},
   "outputs": [],
   "source": [
    "X = np.linspace(0,30,100)"
   ]
  },
  {
   "cell_type": "code",
   "execution_count": null,
   "id": "cf971014",
   "metadata": {},
   "outputs": [],
   "source": [
    "from math import floor\n",
    "\n",
    "def sloped_step(x):\n",
    "    section = floor(x / 10)\n",
    "    x_relative = x - 10 * section\n",
    "    baseline = section * -5\n",
    "    if x_relative < 5:\n",
    "        return baseline - x_relative\n",
    "    else:\n",
    "        return baseline - 5\n",
    "\n",
    "y_easy = np.array([sloped_step(x) for x in X] + np.random.normal(0,.5,100)).ravel()\n",
    "\n",
    "plt.plot(X, y_easy,'.')\n"
   ]
  },
  {
   "cell_type": "code",
   "execution_count": null,
   "id": "dcabc1de",
   "metadata": {},
   "outputs": [],
   "source": [
    "from sklearn.tree import DecisionTreeRegressor\n",
    "\n",
    "tree = DecisionTreeRegressor()\n",
    "tree.fit(X.reshape(-1, 1), y_easy.ravel())\n",
    "\n",
    "tree.get_depth()"
   ]
  },
  {
   "cell_type": "code",
   "execution_count": null,
   "id": "e482ecc3",
   "metadata": {},
   "outputs": [],
   "source": [
    "X_plot = np.linspace(0,30,1000).reshape(-1, 1)\n",
    "\n",
    "plt.plot(X, y_easy, '.')\n",
    "plt.plot(X_plot, tree.predict(X_plot), '-')\n"
   ]
  },
  {
   "cell_type": "markdown",
   "id": "6c8cec82",
   "metadata": {},
   "source": [
    "Clearly overfits.\n",
    "\n",
    "Let's try some hyperparameters."
   ]
  },
  {
   "cell_type": "code",
   "execution_count": null,
   "id": "72a70c5e",
   "metadata": {},
   "outputs": [],
   "source": [
    "tree = DecisionTreeRegressor(max_depth = 4)\n",
    "tree.fit(X.reshape(-1, 1), y_easy.ravel())\n",
    "\n",
    "plt.plot(X, y_easy, '.')\n",
    "plt.plot(X_plot, tree.predict(X_plot), '-')"
   ]
  },
  {
   "cell_type": "markdown",
   "id": "9e1d33f4",
   "metadata": {},
   "source": [
    "Seems okay. Let's look at the tree."
   ]
  },
  {
   "cell_type": "code",
   "execution_count": null,
   "id": "17b1fed2",
   "metadata": {},
   "outputs": [],
   "source": [
    "visualize_tree(tree, [\"X\"], None)"
   ]
  },
  {
   "cell_type": "markdown",
   "id": "a78b6e31",
   "metadata": {},
   "source": [
    "# Random Forest Regression\n",
    "Let's try something more curvy"
   ]
  },
  {
   "cell_type": "code",
   "execution_count": null,
   "id": "21ab7e44",
   "metadata": {},
   "outputs": [],
   "source": [
    "y = np.array(np.cos(X) + 1.2 * np.cos(X * .2) + np.random.normal(0,.2,100))\n",
    "\n",
    "plt.plot(X, y,'.')"
   ]
  },
  {
   "cell_type": "code",
   "execution_count": null,
   "id": "c4cbab7b",
   "metadata": {},
   "outputs": [],
   "source": [
    "tree = DecisionTreeRegressor(max_depth = 4)\n",
    "tree.fit(X.reshape(-1, 1), y.ravel())\n",
    "\n",
    "plt.plot(X, y, '.')\n",
    "plt.plot(X_plot, tree.predict(X_plot), '-')"
   ]
  },
  {
   "cell_type": "markdown",
   "id": "6c57ab16",
   "metadata": {},
   "source": [
    "Here, we train and plot a sequence of gradient boosted trees, using between 1 and 15 trees. Notice how using one tree severely underfits the data, while using too many trees lead to overfitting. Somewhere in between, we have a decent model."
   ]
  },
  {
   "cell_type": "code",
   "execution_count": null,
   "id": "375a6444",
   "metadata": {},
   "outputs": [],
   "source": [
    "X_train, X_test, y_train, y_test = train_test_split(X.reshape(-1, 1), y)\n",
    "\n",
    "trees = [GradientBoostingRegressor(n_estimators=i+1, max_depth=3, learning_rate=0.5) for i in range(15)]\n",
    "\n",
    "train_error, test_error = [], []\n",
    "\n",
    "for tree in trees: \n",
    "    tree.fit(X_train, y_train)\n",
    "    train_error.append(mean_squared_error(y_true=y_train, y_pred=tree.predict(X_train)))\n",
    "    test_error.append(mean_squared_error(y_true=y_test, y_pred=tree.predict(X_test)))\n",
    "\n",
    "def plot(ax, tree, index):\n",
    "    ax.set_title(\"{} tree(s)\".format(index + 1))\n",
    "    ax.plot(X_train,y_train,'.')\n",
    "    ax.plot(X_plot,tree.predict(X_plot),'-') #plot the actual predicted values\n",
    "\n",
    "axes = grid_plot(trees, 3, 5, plot)\n"
   ]
  },
  {
   "cell_type": "markdown",
   "id": "df9ed98e",
   "metadata": {},
   "source": [
    "The way in which the algorithm works is by fitting tree n+1 to the _residuals_ of tree n, and then we add this \"residual-tree\" to the previous tree. Here, we plot the residuals and the \"residual trees\"."
   ]
  },
  {
   "cell_type": "code",
   "execution_count": null,
   "id": "d2f2b60a",
   "metadata": {},
   "outputs": [],
   "source": [
    "def plot_res(ax, tree, index):\n",
    "    if index == 0:\n",
    "        ax.plot(X, y, '.')\n",
    "        ax.plot(X_plot, tree.predict(X_plot), '-')\n",
    "        ax.set_title(\"Tree {}\".format(index + 1))\n",
    "    else:\n",
    "        previous = trees[index - 1]\n",
    "        ax.plot(X, y - previous.predict(X.reshape(-1, 1)), '.')\n",
    "        ax.plot(X_plot, tree.predict(X_plot) - previous.predict(X_plot),'-')\n",
    "        ax.set_title('Residual tree {}'.format(index+1))\n",
    "\n",
    "axes = grid_plot(trees, 3, 5, plot_res)\n"
   ]
  },
  {
   "cell_type": "markdown",
   "id": "45827852",
   "metadata": {},
   "source": [
    "Plot train and test error as a function of the number of trees."
   ]
  },
  {
   "cell_type": "code",
   "execution_count": null,
   "id": "19bf27a1",
   "metadata": {},
   "outputs": [],
   "source": [
    "n_trees = range(1,len(trees)+1)\n",
    "plt.plot(n_trees,train_error,'-', label = \"Train error\")\n",
    "plt.plot(n_trees,test_error,'-', label = \"Test error\")\n",
    "plt.xlabel(\"Number of trees\")\n",
    "plt.ylabel(\"Mean square error\")\n",
    "plt.legend()"
   ]
  },
  {
   "cell_type": "code",
   "execution_count": null,
   "id": "139ae9e0",
   "metadata": {},
   "outputs": [],
   "source": []
  }
 ],
 "metadata": {
  "kernelspec": {
   "display_name": "Python 3 (ipykernel)",
   "language": "python",
   "name": "python3"
  },
  "language_info": {
   "codemirror_mode": {
    "name": "ipython",
    "version": 3
   },
   "file_extension": ".py",
   "mimetype": "text/x-python",
   "name": "python",
   "nbconvert_exporter": "python",
   "pygments_lexer": "ipython3",
   "version": "3.11.5"
  }
 },
 "nbformat": 4,
 "nbformat_minor": 5
}
