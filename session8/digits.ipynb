{
 "cells": [
  {
   "cell_type": "code",
   "execution_count": 47,
   "id": "b26dae0f",
   "metadata": {},
   "outputs": [],
   "source": [
    "import tensorflow as tf\n",
    "from tensorflow.keras import layers\n",
    "\n",
    "from sklearn.datasets import load_digits\n",
    "from sklearn.model_selection import train_test_split\n",
    "\n",
    "import matplotlib.pyplot as plt\n",
    "\n",
    "\n",
    "import numpy as np\n",
    "from numpy.random import seed, randint"
   ]
  },
  {
   "cell_type": "code",
   "execution_count": 48,
   "id": "83d6f4f9",
   "metadata": {},
   "outputs": [],
   "source": [
    "seed(504)\n",
    "tf.random.set_seed(504)"
   ]
  },
  {
   "cell_type": "markdown",
   "id": "87ac7ab7",
   "metadata": {},
   "source": [
    "# Getting the data"
   ]
  },
  {
   "cell_type": "code",
   "execution_count": 49,
   "id": "39c71894",
   "metadata": {},
   "outputs": [
    {
     "name": "stdout",
     "output_type": "stream",
     "text": [
      "This digit is 0\n"
     ]
    },
    {
     "data": {
      "image/png": "[encoded data removed]",
      "text/plain": [
       "<Figure size 640x480 with 1 Axes>"
      ]
     },
     "metadata": {},
     "output_type": "display_data"
    }
   ],
   "source": [
    "digits = load_digits()\n",
    "\n",
    "a = randint(low = 0, high = len(digits.data) - 1)\n",
    "plt.imshow(digits.images[a])\n",
    "print(\"This digit is {}\".format(digits.target[a]))"
   ]
  },
  {
   "cell_type": "markdown",
   "id": "d46a239d",
   "metadata": {},
   "source": [
    "# Training the neural network"
   ]
  },
  {
   "cell_type": "code",
   "execution_count": 50,
   "id": "637eaea9",
   "metadata": {},
   "outputs": [],
   "source": [
    "num_classes = 10\n",
    "X = digits.data\n",
    "y = digits.target\n",
    "Y = tf.keras.utils.to_categorical(y, num_classes)\n",
    "X_train, X_test, Y_train, Y_test = train_test_split(X, Y, stratify = Y)\n",
    "input_size = X.shape[1]"
   ]
  },
  {
   "cell_type": "code",
   "execution_count": 51,
   "id": "e794eed9",
   "metadata": {},
   "outputs": [
    {
     "name": "stdout",
     "output_type": "stream",
     "text": [
      "Epoch 1/100\n",
      "34/34 [==============================] - 0s 5ms/step - loss: 2.1255 - accuracy: 0.2553 - val_loss: 1.6984 - val_accuracy: 0.4407\n",
      "Epoch 2/100\n",
      "34/34 [==============================] - 0s 2ms/step - loss: 1.5072 - accuracy: 0.5070 - val_loss: 1.2386 - val_accuracy: 0.6926\n",
      "Epoch 3/100\n",
      "34/34 [==============================] - 0s 2ms/step - loss: 1.1442 - accuracy: 0.6787 - val_loss: 0.9352 - val_accuracy: 0.7852\n",
      "Epoch 4/100\n",
      "34/34 [==============================] - 0s 2ms/step - loss: 0.9002 - accuracy: 0.7577 - val_loss: 0.7742 - val_accuracy: 0.8259\n",
      "Epoch 5/100\n",
      "34/34 [==============================] - 0s 2ms/step - loss: 0.7585 - accuracy: 0.8022 - val_loss: 0.6558 - val_accuracy: 0.8370\n",
      "Epoch 6/100\n",
      "34/34 [==============================] - 0s 2ms/step - loss: 0.6692 - accuracy: 0.8171 - val_loss: 0.5599 - val_accuracy: 0.8556\n",
      "Epoch 7/100\n",
      "34/34 [==============================] - 0s 2ms/step - loss: 0.5528 - accuracy: 0.8570 - val_loss: 0.5027 - val_accuracy: 0.8704\n",
      "Epoch 8/100\n",
      "34/34 [==============================] - 0s 2ms/step - loss: 0.5127 - accuracy: 0.8654 - val_loss: 0.4828 - val_accuracy: 0.8667\n",
      "Epoch 9/100\n",
      "34/34 [==============================] - 0s 2ms/step - loss: 0.5009 - accuracy: 0.8663 - val_loss: 0.4364 - val_accuracy: 0.8852\n",
      "Epoch 10/100\n",
      "34/34 [==============================] - 0s 2ms/step - loss: 0.4199 - accuracy: 0.8942 - val_loss: 0.3739 - val_accuracy: 0.9037\n",
      "Epoch 11/100\n",
      "34/34 [==============================] - 0s 2ms/step - loss: 0.3724 - accuracy: 0.8969 - val_loss: 0.3802 - val_accuracy: 0.8667\n",
      "Epoch 12/100\n",
      "34/34 [==============================] - 0s 2ms/step - loss: 0.3644 - accuracy: 0.9053 - val_loss: 0.3467 - val_accuracy: 0.9074\n",
      "Epoch 13/100\n",
      "34/34 [==============================] - 0s 2ms/step - loss: 0.3433 - accuracy: 0.9071 - val_loss: 0.3005 - val_accuracy: 0.9333\n",
      "Epoch 14/100\n",
      "34/34 [==============================] - 0s 2ms/step - loss: 0.3240 - accuracy: 0.9136 - val_loss: 0.2810 - val_accuracy: 0.9185\n",
      "Epoch 15/100\n",
      "34/34 [==============================] - 0s 2ms/step - loss: 0.3235 - accuracy: 0.9109 - val_loss: 0.2619 - val_accuracy: 0.9259\n",
      "Epoch 16/100\n",
      "34/34 [==============================] - 0s 2ms/step - loss: 0.2782 - accuracy: 0.9285 - val_loss: 0.2521 - val_accuracy: 0.9333\n",
      "Epoch 17/100\n",
      "34/34 [==============================] - 0s 2ms/step - loss: 0.2626 - accuracy: 0.9294 - val_loss: 0.2513 - val_accuracy: 0.9333\n",
      "Epoch 18/100\n",
      "34/34 [==============================] - 0s 2ms/step - loss: 0.2603 - accuracy: 0.9331 - val_loss: 0.2545 - val_accuracy: 0.9259\n",
      "Epoch 19/100\n",
      "34/34 [==============================] - 0s 2ms/step - loss: 0.2612 - accuracy: 0.9257 - val_loss: 0.2270 - val_accuracy: 0.9481\n",
      "Epoch 20/100\n",
      "34/34 [==============================] - 0s 2ms/step - loss: 0.2143 - accuracy: 0.9480 - val_loss: 0.1924 - val_accuracy: 0.9630\n",
      "Epoch 21/100\n",
      "34/34 [==============================] - 0s 2ms/step - loss: 0.2269 - accuracy: 0.9517 - val_loss: 0.1983 - val_accuracy: 0.9556\n",
      "Epoch 22/100\n",
      "34/34 [==============================] - 0s 2ms/step - loss: 0.2151 - accuracy: 0.9443 - val_loss: 0.2344 - val_accuracy: 0.9407\n",
      "Epoch 23/100\n",
      "34/34 [==============================] - 0s 2ms/step - loss: 0.2013 - accuracy: 0.9536 - val_loss: 0.1655 - val_accuracy: 0.9630\n",
      "Epoch 24/100\n",
      "34/34 [==============================] - 0s 2ms/step - loss: 0.1990 - accuracy: 0.9499 - val_loss: 0.1990 - val_accuracy: 0.9556\n",
      "Epoch 25/100\n",
      "34/34 [==============================] - 0s 2ms/step - loss: 0.2148 - accuracy: 0.9434 - val_loss: 0.2297 - val_accuracy: 0.9296\n",
      "Epoch 26/100\n",
      "34/34 [==============================] - 0s 2ms/step - loss: 0.1911 - accuracy: 0.9508 - val_loss: 0.2379 - val_accuracy: 0.9481\n",
      "Epoch 27/100\n",
      "34/34 [==============================] - 0s 2ms/step - loss: 0.2444 - accuracy: 0.9276 - val_loss: 0.2130 - val_accuracy: 0.9481\n",
      "Epoch 28/100\n",
      "34/34 [==============================] - 0s 2ms/step - loss: 0.2216 - accuracy: 0.9406 - val_loss: 0.2175 - val_accuracy: 0.9444\n",
      "Epoch 29/100\n",
      "34/34 [==============================] - 0s 2ms/step - loss: 0.1934 - accuracy: 0.9415 - val_loss: 0.1859 - val_accuracy: 0.9556\n",
      "Epoch 30/100\n",
      "34/34 [==============================] - 0s 2ms/step - loss: 0.1826 - accuracy: 0.9536 - val_loss: 0.1643 - val_accuracy: 0.9667\n",
      "Epoch 31/100\n",
      "34/34 [==============================] - 0s 2ms/step - loss: 0.2146 - accuracy: 0.9378 - val_loss: 0.1622 - val_accuracy: 0.9593\n",
      "Epoch 32/100\n",
      "34/34 [==============================] - 0s 2ms/step - loss: 0.1935 - accuracy: 0.9471 - val_loss: 0.1833 - val_accuracy: 0.9593\n",
      "Epoch 33/100\n",
      "34/34 [==============================] - 0s 2ms/step - loss: 0.1814 - accuracy: 0.9526 - val_loss: 0.1499 - val_accuracy: 0.9667\n",
      "Epoch 34/100\n",
      "34/34 [==============================] - 0s 2ms/step - loss: 0.1884 - accuracy: 0.9461 - val_loss: 0.1693 - val_accuracy: 0.9593\n",
      "Epoch 35/100\n",
      "34/34 [==============================] - 0s 2ms/step - loss: 0.1882 - accuracy: 0.9564 - val_loss: 0.1969 - val_accuracy: 0.9444\n",
      "Epoch 36/100\n",
      "34/34 [==============================] - 0s 2ms/step - loss: 0.1716 - accuracy: 0.9573 - val_loss: 0.1528 - val_accuracy: 0.9593\n",
      "Epoch 37/100\n",
      "34/34 [==============================] - 0s 2ms/step - loss: 0.1827 - accuracy: 0.9489 - val_loss: 0.2287 - val_accuracy: 0.9333\n",
      "Epoch 38/100\n",
      "34/34 [==============================] - 0s 2ms/step - loss: 0.2170 - accuracy: 0.9434 - val_loss: 0.2070 - val_accuracy: 0.9333\n",
      "Epoch 39/100\n",
      "34/34 [==============================] - 0s 2ms/step - loss: 0.1947 - accuracy: 0.9526 - val_loss: 0.1435 - val_accuracy: 0.9704\n",
      "Epoch 40/100\n",
      "34/34 [==============================] - 0s 2ms/step - loss: 0.1601 - accuracy: 0.9619 - val_loss: 0.1515 - val_accuracy: 0.9593\n",
      "Epoch 41/100\n",
      "34/34 [==============================] - 0s 2ms/step - loss: 0.1849 - accuracy: 0.9545 - val_loss: 0.1774 - val_accuracy: 0.9519\n",
      "Epoch 42/100\n",
      "34/34 [==============================] - 0s 2ms/step - loss: 0.1589 - accuracy: 0.9638 - val_loss: 0.2011 - val_accuracy: 0.9444\n",
      "Epoch 43/100\n",
      "34/34 [==============================] - 0s 2ms/step - loss: 0.1986 - accuracy: 0.9434 - val_loss: 0.1819 - val_accuracy: 0.9630\n",
      "Epoch 44/100\n",
      "34/34 [==============================] - 0s 2ms/step - loss: 0.1555 - accuracy: 0.9582 - val_loss: 0.2187 - val_accuracy: 0.9370\n",
      "Epoch 45/100\n",
      "34/34 [==============================] - 0s 2ms/step - loss: 0.1566 - accuracy: 0.9656 - val_loss: 0.1372 - val_accuracy: 0.9704\n",
      "Epoch 46/100\n",
      "34/34 [==============================] - 0s 2ms/step - loss: 0.1548 - accuracy: 0.9573 - val_loss: 0.1358 - val_accuracy: 0.9741\n",
      "Epoch 47/100\n",
      "34/34 [==============================] - 0s 2ms/step - loss: 0.1430 - accuracy: 0.9675 - val_loss: 0.1485 - val_accuracy: 0.9704\n",
      "Epoch 48/100\n",
      "34/34 [==============================] - 0s 2ms/step - loss: 0.1355 - accuracy: 0.9684 - val_loss: 0.1735 - val_accuracy: 0.9630\n",
      "Epoch 49/100\n",
      "34/34 [==============================] - 0s 2ms/step - loss: 0.1522 - accuracy: 0.9638 - val_loss: 0.1342 - val_accuracy: 0.9667\n",
      "Epoch 50/100\n",
      "34/34 [==============================] - 0s 2ms/step - loss: 0.1480 - accuracy: 0.9647 - val_loss: 0.1809 - val_accuracy: 0.9444\n",
      "Epoch 51/100\n",
      "34/34 [==============================] - 0s 2ms/step - loss: 0.1761 - accuracy: 0.9517 - val_loss: 0.1667 - val_accuracy: 0.9593\n",
      "Epoch 52/100\n",
      "34/34 [==============================] - 0s 2ms/step - loss: 0.1459 - accuracy: 0.9610 - val_loss: 0.1680 - val_accuracy: 0.9481\n",
      "Epoch 53/100\n",
      "34/34 [==============================] - 0s 2ms/step - loss: 0.1496 - accuracy: 0.9619 - val_loss: 0.1828 - val_accuracy: 0.9593\n",
      "Epoch 54/100\n",
      "34/34 [==============================] - 0s 2ms/step - loss: 0.1365 - accuracy: 0.9684 - val_loss: 0.2121 - val_accuracy: 0.9259\n",
      "Epoch 55/100\n",
      "34/34 [==============================] - 0s 2ms/step - loss: 0.1744 - accuracy: 0.9554 - val_loss: 0.1734 - val_accuracy: 0.9593\n",
      "Epoch 56/100\n",
      "34/34 [==============================] - 0s 2ms/step - loss: 0.1601 - accuracy: 0.9564 - val_loss: 0.1692 - val_accuracy: 0.9593\n"
     ]
    }
   ],
   "source": [
    "callback = tf.keras.callbacks.EarlyStopping(monitor = 'val_accuracy', patience = 10)\n",
    "\n",
    "model = tf.keras.models.Sequential([\n",
    "    layers.Dense(units = 16, activation = 'tanh', input_dim = input_size, kernel_regularizer=tf.keras.regularizers.l2(0.001)),\n",
    "    layers.Dropout(0.2),\n",
    "    layers.Dense(units = num_classes, activation = 'softmax')\n",
    "])\n",
    "\n",
    "model.compile(loss = 'categorical_crossentropy', optimizer = tf.keras.optimizers.Adam(learning_rate = 0.005), metrics = ['accuracy'])\n",
    "\n",
    "history = model.fit(X_train, Y_train, \n",
    "                    epochs = 100, \n",
    "                    validation_split = 0.2, \n",
    "                    callbacks = [callback])"
   ]
  },
  {
   "cell_type": "code",
   "execution_count": 52,
   "id": "823bffdc",
   "metadata": {},
   "outputs": [
    {
     "data": {
      "image/png": "[encoded data removed]",
      "text/plain": [
       "<Figure size 640x480 with 1 Axes>"
      ]
     },
     "metadata": {},
     "output_type": "display_data"
    }
   ],
   "source": [
    "plt.figure()\n",
    "plt.title(\"Learning curves\")\n",
    "plt.xlabel(\"Epoch\")\n",
    "plt.ylabel(\"Cross entropy loss\")\n",
    "plt.plot(history.history['loss'], label = 'train')\n",
    "plt.plot(history.history['val_loss'], label = 'valid')\n",
    "plt.legend()\n",
    "plt.show()"
   ]
  },
  {
   "cell_type": "code",
   "execution_count": 53,
   "id": "8bf937d0",
   "metadata": {},
   "outputs": [
    {
     "name": "stdout",
     "output_type": "stream",
     "text": [
      "43/43 [==============================] - 0s 1ms/step - loss: 0.0961 - accuracy: 0.9807\n",
      "Loss + accuracy on train data: [0.0961131900548935, 0.9806978702545166]\n",
      "15/15 [==============================] - 0s 999us/step - loss: 0.2029 - accuracy: 0.9489\n",
      "Loss + accuracy on test data: [0.202861025929451, 0.948888897895813]\n"
     ]
    }
   ],
   "source": [
    "print(\"Loss + accuracy on train data: {}\".format(model.evaluate(X_train, Y_train)))\n",
    "print(\"Loss + accuracy on test data: {}\".format(model.evaluate(X_test, Y_test)))"
   ]
  },
  {
   "cell_type": "markdown",
   "id": "3fc6fc96",
   "metadata": {},
   "source": [
    "# Consider misclassified digits"
   ]
  },
  {
   "cell_type": "code",
   "execution_count": 54,
   "id": "3ca110a9",
   "metadata": {},
   "outputs": [
    {
     "name": "stdout",
     "output_type": "stream",
     "text": [
      "15/15 [==============================] - 0s 929us/step\n",
      "Predictions = [0 1 6 8 1 0 4 1 7 8 9 5 9 2 6 9 3 6 9 3 9 8 4 7 7 5 3 8 2 6]\n",
      "Labels      = [0 1 6 8 1 0 4 1 7 8 9 5 9 2 6 9 3 6 9 3 9 8 4 7 7 5 3 8 2 6]\n"
     ]
    }
   ],
   "source": [
    "probabilities = np.array(model.predict(X_test))\n",
    "predictions = np.argmax(probabilities, axis = 1) #what does the model predict\n",
    "labels = np.argmax(Y_test, axis = 1) #what are the actual labels\n",
    "\n",
    "print(\"Predictions = {}\".format(predictions[0:30]))\n",
    "print(\"Labels      = {}\".format(labels[0:30]))"
   ]
  },
  {
   "cell_type": "code",
   "execution_count": 55,
   "id": "0b427657",
   "metadata": {},
   "outputs": [
    {
     "name": "stdout",
     "output_type": "stream",
     "text": [
      "This digit is 1, but classified as 4.\n"
     ]
    },
    {
     "data": {
      "image/png": "[encoded data removed]",
      "text/plain": [
       "<Figure size 640x480 with 1 Axes>"
      ]
     },
     "metadata": {},
     "output_type": "display_data"
    }
   ],
   "source": [
    "misclas_idxs = np.argwhere(predictions != labels)\n",
    "\n",
    "b = randint(low = 0, high = len(misclas_idxs) - 1) #choose a random index\n",
    "a = misclas_idxs[b][0] # find out what image that index is\n",
    "plt.imshow(np.reshape(X_test[a], (8,8)))\n",
    "print(\"This digit is {}, but classified as {}.\".format(labels[a], predictions[a]))"
   ]
  },
  {
   "cell_type": "code",
   "execution_count": null,
   "id": "e8c2ffe6",
   "metadata": {},
   "outputs": [],
   "source": []
  }
 ],
 "metadata": {
  "kernelspec": {
   "display_name": "Python 3 (ipykernel)",
   "language": "python",
   "name": "python3"
  },
  "language_info": {
   "codemirror_mode": {
    "name": "ipython",
    "version": 3
   },
   "file_extension": ".py",
   "mimetype": "text/x-python",
   "name": "python",
   "nbconvert_exporter": "python",
   "pygments_lexer": "ipython3",
   "version": "3.11.5"
  }
 },
 "nbformat": 4,
 "nbformat_minor": 5
}
