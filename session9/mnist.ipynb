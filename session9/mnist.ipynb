{
 "cells": [
  {
   "cell_type": "code",
   "execution_count": null,
   "id": "b26dae0f",
   "metadata": {},
   "outputs": [],
   "source": [
    "import tensorflow as tf\n",
    "from tensorflow.keras import layers\n",
    "\n",
    "from sklearn.datasets import load_digits\n",
    "from sklearn.model_selection import train_test_split\n",
    "\n",
    "import matplotlib.pyplot as plt\n",
    "\n",
    "\n",
    "import numpy as np\n",
    "from numpy.random import seed, randint"
   ]
  },
  {
   "cell_type": "code",
   "execution_count": null,
   "id": "83d6f4f9",
   "metadata": {},
   "outputs": [],
   "source": [
    "seed(504)\n",
    "tf.random.set_seed(504)"
   ]
  },
  {
   "cell_type": "markdown",
   "id": "87ac7ab7",
   "metadata": {},
   "source": [
    "# Getting the data"
   ]
  },
  {
   "cell_type": "code",
   "execution_count": null,
   "id": "39c71894",
   "metadata": {},
   "outputs": [],
   "source": [
    "from sklearn.datasets import fetch_openml\n",
    "\n",
    "mnist = fetch_openml('mnist_784', as_frame=False)\n",
    "X, y = mnist.data.reshape(-1, 28, 28, 1), tf.keras.utils.to_categorical(mnist.target)\n",
    "X_train, y_train = X[:60_000], y[:60_000]\n",
    "X_test, y_test = X[60_000:], y[60_000:]"
   ]
  },
  {
   "cell_type": "markdown",
   "id": "d46a239d",
   "metadata": {},
   "source": [
    "# Training the neural network"
   ]
  },
  {
   "cell_type": "code",
   "execution_count": null,
   "id": "637eaea9",
   "metadata": {},
   "outputs": [],
   "source": [
    "X.shape"
   ]
  },
  {
   "cell_type": "code",
   "execution_count": null,
   "id": "e794eed9",
   "metadata": {},
   "outputs": [],
   "source": [
    "es = tf.keras.callbacks.EarlyStopping(monitor = 'val_accuracy', patience = 10, restore_best_weights=True)\n",
    "\n",
    "cnn = tf.keras.models.Sequential([\n",
    "    layers.Conv2D(16, 3, activation='relu', padding='same', input_shape=X_train[0].shape),\n",
    "    layers.Dropout(.4),\n",
    "    layers.MaxPooling2D(),\n",
    "    layers.Conv2D(32, 3, activation='relu', padding='same'),\n",
    "    layers.Dropout(.4),\n",
    "    layers.MaxPooling2D(),\n",
    "    layers.Conv2D(120, 3, activation='relu', padding='same'),\n",
    "    layers.Dropout(.4),\n",
    "    layers.Flatten(),\n",
    "    layers.Dense(units=84, activation='relu'),\n",
    "    layers.Dropout(.4),\n",
    "    layers.Dense(units=10, activation='softmax')\n",
    "])\n",
    "cnn.summary()"
   ]
  },
  {
   "cell_type": "code",
   "execution_count": null,
   "id": "a5560d26",
   "metadata": {},
   "outputs": [],
   "source": [
    "\n",
    "cnn.compile(loss = 'categorical_crossentropy', optimizer = tf.keras.optimizers.Adam(learning_rate = 0.0001), metrics = ['accuracy'])\n",
    "\n",
    "history = cnn.fit(X_train, y_train, \n",
    "                    epochs = 100, \n",
    "                    validation_split = 0.2,\n",
    "                    callbacks=[es])"
   ]
  },
  {
   "cell_type": "code",
   "execution_count": null,
   "id": "823bffdc",
   "metadata": {},
   "outputs": [],
   "source": [
    "figure = plt.figure(figsize=(20, 10))\n",
    "ax = figure.add_subplot(1, 2, 1, title='Learning curves (loss)')\n",
    "ax.set_xlabel(\"Epoch\")\n",
    "ax.set_ylabel(\"Loss\")\n",
    "ax.plot(history.history['loss'], label = 'train')\n",
    "ax.plot(history.history['val_loss'], label = 'valid')\n",
    "ax.legend()\n",
    "\n",
    "ax = figure.add_subplot(1, 2, 2, title='Learning curves (accuracy)')\n",
    "ax.set_xlabel(\"Epoch\")\n",
    "ax.set_ylabel(\"Accuracy\")\n",
    "ax.plot(history.history['accuracy'], label = 'train')\n",
    "ax.plot(history.history['val_accuracy'], label = 'valid')\n",
    "ax.legend()\n",
    "\n",
    "plt.show()"
   ]
  },
  {
   "cell_type": "code",
   "execution_count": null,
   "id": "8bf937d0",
   "metadata": {},
   "outputs": [],
   "source": [
    "train_eval = cnn.evaluate(X_train[:48000], y_train[:48000])\n",
    "validation_eval = cnn.evaluate(X_train[48000:], y_train[48000:])\n",
    "test_eval = cnn.evaluate(X_test, y_test)\n",
    "print(\"On train data: Loss = {loss:.4f}, accuracy = {accuracy:.4f}\".format(loss=train_eval[0], accuracy=train_eval[1]))\n",
    "print(\"On validation data: Loss = {loss:.4f}, accuracy = {accuracy:.4f}\".format(loss=validation_eval[0], accuracy=validation_eval[1]))\n",
    "print(\"On test data: Loss = {loss:.4f}, accuracy = {accuracy:.4f}\".format(loss=test_eval[0], accuracy=test_eval[1]))\n",
    "print(\"Error on test data: {p:.2f}%\".format(p = 100*(1-test_eval[1])))"
   ]
  },
  {
   "cell_type": "code",
   "execution_count": null,
   "id": "7f3e88ab",
   "metadata": {},
   "outputs": [],
   "source": [
    "from plot_utils import grid_plot\n",
    "from matplotlib.colors import CenteredNorm\n",
    "\n",
    "kernel_weights = cnn.layers[0].weights[0]\n",
    "kernel_shape = kernel_weights.shape[:2]\n",
    "kernels = [kernel_weights[:, :, :, i].numpy().reshape(kernel_shape) for i in range(kernel_weights.shape[-1])]\n",
    "\n",
    "def plot_kernel(ax, kernel, index):\n",
    "    ax.axis('off')\n",
    "    ax.imshow(kernel, cmap='coolwarm', norm=CenteredNorm())\n",
    "\n",
    "grid_plot(kernels, 4, 4, plot_kernel, figsize=(5, 5))\n"
   ]
  },
  {
   "cell_type": "markdown",
   "id": "3fc6fc96",
   "metadata": {},
   "source": [
    "# Consider misclassified digits"
   ]
  },
  {
   "cell_type": "code",
   "execution_count": null,
   "id": "0b427657",
   "metadata": {},
   "outputs": [],
   "source": [
    "probabilities = np.array(cnn.predict(X_test))\n",
    "predictions = np.argmax(probabilities, axis = 1) #what does the model predict\n",
    "labels = np.argmax(y_test, axis = 1) #what are the actual labels\n",
    "misclas_idxs = np.argwhere(predictions != labels).reshape(-1)\n",
    "\n",
    "idxs = [misclas_idxs[randint(low = 0, high = len(misclas_idxs) - 1)] for i in range(9)] #choose 9 random indeces\n",
    "\n",
    "figure = plt.figure(figsize=(15, 15))\n",
    "for i in range(9):\n",
    "    idx = idxs[i]\n",
    "    ax = figure.add_subplot(3, 3, i + 1, title='expected: {}, predicted: {}'.format(labels[idx], predictions[idx]))\n",
    "    ax.axis('off')\n",
    "    ax.imshow(np.reshape(X_test[idx], (28, 28)), cmap='Greys')\n"
   ]
  }
 ],
 "metadata": {
  "kernelspec": {
   "display_name": "Python 3 (ipykernel)",
   "language": "python",
   "name": "python3"
  },
  "language_info": {
   "codemirror_mode": {
    "name": "ipython",
    "version": 3
   },
   "file_extension": ".py",
   "mimetype": "text/x-python",
   "name": "python",
   "nbconvert_exporter": "python",
   "pygments_lexer": "ipython3",
   "version": "3.11.6"
  }
 },
 "nbformat": 4,
 "nbformat_minor": 5
}
