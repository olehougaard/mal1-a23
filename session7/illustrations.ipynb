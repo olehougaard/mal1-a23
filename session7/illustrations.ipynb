{
 "cells": [
  {
   "cell_type": "code",
   "execution_count": null,
   "metadata": {},
   "outputs": [],
   "source": [
    "import matplotlib.pyplot as plt\n",
    "import numpy as np\n",
    "import pandas as pd\n",
    "\n",
    "lim = 6\n",
    "t = np.linspace(-lim, lim, 100)\n",
    "sig = 1 / (1 + np.exp(-t))\n",
    "sig_half = 1 / (1 + np.exp(-t/2))\n",
    "sig_double = 1 / (1 + np.exp(-t*2))\n",
    "sig_prime = np.exp(-t)/np.square(1 + np.exp(-t))\n",
    "\n",
    "plt.figure(figsize=(8, 3))\n",
    "plt.plot([-lim, lim], [0, 0], \"k-\")\n",
    "plt.plot([-lim, lim], [.5, .5], \"k:\")\n",
    "plt.plot([-lim, lim], [1, 1], \"k:\")\n",
    "plt.plot([0, 0], [-1.1, 1.1], \"k-\")\n",
    "plt.plot(t, sig, \"b-\", linewidth=2, label=r\"$\\sigma(t) = \\dfrac{1}{1 + e^{-t}}$\")\n",
    "plt.plot(t, sig_half, \"g-\", linewidth=2, label=r\"$\\sigma(t) = \\dfrac{1}{1 + e^{-t / 2}}$\")\n",
    "plt.plot(t, sig_double, \"r-\", linewidth=2, label=r\"$\\sigma(t) = \\dfrac{1}{1 + e^{-2t}}$\")\n",
    "#plt.plot(t, sig_prime, \"y-\", linewidth=2, label=r\"$\\sigma(t) = \\dfrac{1 + e^{-t}}{(1 + e^{-t})^2} = \\sigma(t)*(1 - \\sigma(t))$\")\n",
    "plt.xlabel(\"t\")\n",
    "plt.legend(loc=\"upper left\")\n",
    "plt.axis([-lim, lim, -0.1, 1.1])\n",
    "plt.gca().set_yticks([0, 0.25, 0.5, 0.75, 1])\n",
    "plt.grid()\n",
    "plt.show()"
   ]
  },
  {
   "cell_type": "code",
   "execution_count": null,
   "metadata": {},
   "outputs": [],
   "source": [
    "titanic = pd.read_csv('Titanic.csv').dropna()\n",
    "\n",
    "#titanic = titanic.query(\"Pclass==2\")\n",
    "from sklearn.linear_model import LogisticRegression\n",
    "\n",
    "log_reg = LogisticRegression(random_state=504)\n",
    "X = np.array(titanic[\"Age\"]).reshape(-1, 1)\n",
    "y = 1-titanic[\"Survived\"]\n",
    "log_reg.fit(X, y)\n",
    "\n",
    "\n",
    "start, end = -50, 250\n",
    "t = np.linspace(start, end, end)\n",
    "coef, intercept = log_reg.coef_[0, 0], log_reg.intercept_[0]\n",
    "sig = 1 / (1 + np.exp(-coef*t - intercept))\n",
    "\n",
    "plt.figure(figsize=(15, 3))\n",
    "plt.plot(titanic[\"Age\"], titanic[\"Survived\"], 'o')\n",
    "plt.plot([start, end], [0, 0], \"k-\")\n",
    "plt.plot([start, end], [0.5, 0.5], \"k:\")\n",
    "plt.plot([start, end], [1, 1], \"k:\")\n",
    "plt.plot(t, sig, \"b-\", linewidth=2, label=r\"$\\sigma(t) = \\dfrac{1}{1 + e^{-t}}$\")\n",
    "plt.xlabel(\"Age\")\n",
    "plt.axis([start, end, -0.1, 1.1])\n",
    "plt.gca().set_yticks([0, 0.25, 0.5, 0.75, 1])\n",
    "plt.grid()\n",
    "\n",
    "\n",
    "log_reg.score(X, y)\n"
   ]
  },
  {
   "cell_type": "code",
   "execution_count": null,
   "metadata": {},
   "outputs": [],
   "source": [
    "from sklearn.datasets import make_circles\n",
    "from matplotlib.colors import ListedColormap\n",
    "from math import exp, exp2\n",
    "colors = ListedColormap(['green', 'magenta'])\n",
    "\n",
    "X_circles, y_circles = make_circles(n_samples=300, factor=.65, noise = .07)\n",
    "\n",
    "X3 = np.array([x1**2 + x2**2 for x1, x2 in X_circles])\n",
    "\n",
    "X3D = np.array([(x1**2, x2**2, 1.4 * x1 * x2) for x1, x2 in X_circles])\n",
    "\n",
    "figure = plt.figure(figsize=(16, 8))\n",
    "\n",
    "ax = figure.add_subplot(1, 2, 1, title='Not linearly separable')\n",
    "ax.scatter(X_circles[:, 0], X_circles[:, 1], c=y_circles, cmap=colors)\n",
    "\n",
    "ax = figure.add_subplot(1, 2, 2, title='Linearly separable', projection='3d')\n",
    "ax.scatter(X3D[:, 2], X3D[:, 0], X3D[:, 1],  c=y_circles, cmap=colors)\n"
   ]
  },
  {
   "cell_type": "code",
   "execution_count": null,
   "metadata": {},
   "outputs": [],
   "source": [
    "lim = 10\n",
    "t = np.linspace(-lim, lim, 400)\n",
    "gauss12 = np.exp(-(t/4)**2)\n",
    "gauss = np.exp(-t**2)\n",
    "gauss2 = np.exp(-(t*4)**2)\n",
    "\n",
    "plt.figure(figsize=(16, 6))\n",
    "plt.plot([-lim, lim], [0, 0], \"k-\")\n",
    "plt.plot([0, 0], [-1.1, 1.1], \"k-\")\n",
    "plt.plot(t, gauss12, \"g-\", linewidth=2, label=r\"$\\gamma = \\dfrac{1}{4}$\")\n",
    "plt.plot(t, gauss, \"b-\", linewidth=2, label=r\"$\\gamma = 1$\")\n",
    "plt.plot(t, gauss2, \"y-\", linewidth=2, label=r\"$\\gamma = 4$\")\n",
    "plt.xlabel(\"t\")\n",
    "plt.legend(loc=\"upper left\")\n",
    "plt.axis([-lim, lim, -0.1, 1.1])\n",
    "plt.gca().set_yticks([0, 0.25, 0.5, 0.75, 1])\n",
    "plt.grid()"
   ]
  }
 ],
 "metadata": {
  "kernelspec": {
   "display_name": "Python 3",
   "language": "python",
   "name": "python3"
  },
  "language_info": {
   "codemirror_mode": {
    "name": "ipython",
    "version": 3
   },
   "file_extension": ".py",
   "mimetype": "text/x-python",
   "name": "python",
   "nbconvert_exporter": "python",
   "pygments_lexer": "ipython3",
   "version": "3.11.6"
  },
  "orig_nbformat": 4
 },
 "nbformat": 4,
 "nbformat_minor": 2
}
